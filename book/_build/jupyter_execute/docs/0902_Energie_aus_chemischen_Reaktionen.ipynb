{
 "cells": [
  {
   "cell_type": "markdown",
   "id": "6d8bba8b",
   "metadata": {},
   "source": [
    "# 0902_Energie aus chemischen Reaktionen\n",
    "\n",
    "## Leitfragen\n",
    "\n",
    "- Wie lässt sich die Übertragung von Elektronen nutzbar machen?\n",
    "\n",
    "## Inhaltsfelder & Inhaltliche Schwerpunkte\n",
    "\n",
    "- **IF7: Chemische Reaktionen durch Elektronenüber­tragung**\n",
    "  - Reaktionen zwischen Metall­atomen und Metallionen\n",
    "  - Oxidation, Reduktion\n",
    "  - Energiequellen: Galvanisches Element, Akkumulator, Batterie, Brennstoffzelle\n",
    "  - Elektrolyse\n",
    "\n",
    "## Schwerpunkte der Kompetenzentwicklung\n",
    "\n",
    "- **UF1 Wiedergabe und Erklärung**\n",
    "  - Erläutern chemischer Reaktionen und Beschreiben der Grundelemente chemischer Verfahren\n",
    "- **UF3 Ordnung und Systematisierung**\n",
    "  - Einordnen chemischer Sachverhalte\n",
    "- **UF4 Übertragung und Vernetzung**\n",
    "  - Vernetzen naturwissen­schaftlicher Konzepte\n",
    "- **E3 Vermutung und Hypothese**\n",
    "  - hypothesengeleitetes Planen von Experimenten\n",
    "- **E4 Untersuchung und Experiment**\n",
    "  - Anlegen und Durchführen einer Versuchsreihe\n",
    "- **E6 Modell und Realität**\n",
    "  - Verwenden von Modellen als Mittel zur Erklärung\n",
    "- **B3 Abwägung und Entscheidung**\n",
    "  - begründetes Auswählen von Maßnahmen"
   ]
  }
 ],
 "metadata": {
  "jupytext": {
   "text_representation": {
    "extension": ".md",
    "format_name": "myst",
    "format_version": 0.13,
    "jupytext_version": "1.10.3"
   }
  },
  "kernelspec": {
   "display_name": "Python 3.9",
   "language": "python",
   "name": "python3"
  },
  "language_info": {
   "codemirror_mode": {
    "name": "ipython",
    "version": 3
   },
   "file_extension": ".py",
   "mimetype": "text/x-python",
   "name": "python",
   "nbconvert_exporter": "python",
   "pygments_lexer": "ipython3",
   "version": "3.9.6"
  },
  "source_map": [
   12
  ]
 },
 "nbformat": 4,
 "nbformat_minor": 5
}