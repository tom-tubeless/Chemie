{
 "cells": [
  {
   "cell_type": "markdown",
   "id": "d2991dfe",
   "metadata": {},
   "source": [
    "# 1006_Vielseitige Kunststoffe\n",
    "\n",
    "## Leitfragen\n",
    "\n",
    "- Warum werden bestimmte Kunststoffe im Alltag verwendet?\n",
    "\n",
    "## Inhaltsfelder & Inhaltliche Schwerpunkte\n",
    "\n",
    "- **IF10: Organische Chemie**\n",
    "  - Makromoleküle: ausgewählte Kunststoffe\n",
    "\n",
    "## Schwerpunkte der Kompetenzentwicklung\n",
    "\n",
    "- **UF2 Auswahl und Anwendung**\n",
    "  - zielgerichtetes Anwenden von chemischem Fachwissen\n",
    "- **B3 Abwägung und Entscheidung**\n",
    "  - Auswählen von Handlungs­optionen durch Abwägen von Kriterien und nach Abschätzung der Folgen für Natur, das Individuum und die Gesellschaft\n",
    "- **B4 Stellungnahme und Reflexion**\n",
    "  - argumentatives Vertreten von Bewertungen\n",
    "- **K4 Argumentation**\n",
    "  - faktenbasiertes Argumen­tieren auf Grundlage chemi­scher Erkenntnisse und natur­wissenschaftlicher Denk­weisen"
   ]
  }
 ],
 "metadata": {
  "jupytext": {
   "text_representation": {
    "extension": ".md",
    "format_name": "myst",
    "format_version": 0.13,
    "jupytext_version": "1.10.3"
   }
  },
  "kernelspec": {
   "display_name": "Python 3.9",
   "language": "python",
   "name": "python3"
  },
  "language_info": {
   "codemirror_mode": {
    "name": "ipython",
    "version": 3
   },
   "file_extension": ".py",
   "mimetype": "text/x-python",
   "name": "python",
   "nbconvert_exporter": "python",
   "pygments_lexer": "ipython3",
   "version": "3.9.6"
  },
  "source_map": [
   12
  ]
 },
 "nbformat": 4,
 "nbformat_minor": 5
}